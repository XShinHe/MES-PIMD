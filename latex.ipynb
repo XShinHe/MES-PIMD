{
 "cells": [
  {
   "cell_type": "markdown",
   "metadata": {},
   "source": [
    "![drawing](po.png)"
   ]
  },
  {
   "cell_type": "markdown",
   "metadata": {},
   "source": [
    "# MES-PIMD\n",
    "Multi-Eelctronic States Path Integral Molecule Dynamics  \n",
    "## 0. the module of program  \n",
    "the MES-PIMD contains following model:  \n",
    ">* base : basic definition for simulation\n",
    ">* linalgebra : basic for easy linear algebra operation\n",
    ">* MES_Models : provide four nucleus-electons binded models\n",
    ">* md_pimd : provide pimd procedure\n",
    ">* map : provide mapping model for electron motions\n",
    ">* map_pimd : pimd of nucleus binding with mapping motion of electrons\n",
    "\n",
    "## 1. MES-PIMD  \n",
    "the MES-PIMD, is for thermodynamics statistic. The most important information is partition function, where:  \n",
    "$$ Z = Tr[ e^{-\\beta \\hat{H}} ] $$\n",
    "where "
   ]
  },
  {
   "cell_type": "code",
   "execution_count": null,
   "metadata": {},
   "outputs": [],
   "source": []
  }
 ],
 "metadata": {
  "kernelspec": {
   "display_name": "Python 3",
   "language": "python",
   "name": "python3"
  },
  "language_info": {
   "codemirror_mode": {
    "name": "ipython",
    "version": 3
   },
   "file_extension": ".py",
   "mimetype": "text/x-python",
   "name": "python",
   "nbconvert_exporter": "python",
   "pygments_lexer": "ipython3",
   "version": "3.5.4"
  }
 },
 "nbformat": 4,
 "nbformat_minor": 2
}
